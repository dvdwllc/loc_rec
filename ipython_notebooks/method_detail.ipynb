{
 "cells": [
  {
   "cell_type": "code",
   "execution_count": 1,
   "metadata": {
    "collapsed": true
   },
   "outputs": [],
   "source": [
    "import matplotlib.pyplot as plt\n",
    "import pandas as pd\n",
    "import numpy as np\n",
    "#import seaborn as sns\n",
    "import matplotlib"
   ]
  },
  {
   "cell_type": "code",
   "execution_count": 2,
   "metadata": {
    "collapsed": false
   },
   "outputs": [],
   "source": [
    "restaurants = pd.read_csv('Django_old/clean_data/restaurant_list_GIS.csv')\n",
    "restaurants = restaurants[restaurants['Longitude'] < 0]\n",
    "\n",
    "font = {'family' : 'Helvetica',\n",
    "        'size'   : 24}\n",
    "\n",
    "matplotlib.rc('font', **font)"
   ]
  },
  {
   "cell_type": "code",
   "execution_count": 3,
   "metadata": {
    "collapsed": false
   },
   "outputs": [
    {
     "name": "stderr",
     "output_type": "stream",
     "text": [
      "/Users/wallacdc/anaconda/lib/python2.7/site-packages/matplotlib/font_manager.py:1282: UserWarning: findfont: Font family [u'Helvetica'] not found. Falling back to Bitstream Vera Sans\n",
      "  (prop.get_family(), self.defaultFamily[fontext]))\n"
     ]
    }
   ],
   "source": [
    "plt.figure(figsize=(5,4.5))\n",
    "plt.subplots_adjust(left=0.15, bottom=0.15)\n",
    "plt.axis([-76.72,-76.52,39.19,39.38])\n",
    "plt.xlabel('Longitude')\n",
    "plt.ylabel('Latitude')\n",
    "plt.plot(restaurants['Longitude'], restaurants['Latitude'], '.', color = 'red', alpha=0.4)\n",
    "plt.title('Restaurant Locations in Baltimore City')\n",
    "plt.savefig('static/data.png', transparent=True)"
   ]
  },
  {
   "cell_type": "code",
   "execution_count": 4,
   "metadata": {
    "collapsed": true
   },
   "outputs": [],
   "source": [
    "from scripts.mapcalc_kde import plot_KDE, kde_map\n",
    "import dill"
   ]
  },
  {
   "cell_type": "code",
   "execution_count": 5,
   "metadata": {
    "collapsed": false
   },
   "outputs": [],
   "source": [
    "restaurant = dill.load(open('dills/restaurant_dynamicBW.dill', 'r'))\n",
    "crime = dill.load(open('dills/crime_dynamicBW.dill', 'r')) \n",
    "groceries = dill.load(open('dills/grocery_dynamicBW.dill', 'r')) \n",
    "parks = dill.load(open('dills/parks_dynamicBW.dill', 'r')) "
   ]
  },
  {
   "cell_type": "code",
   "execution_count": 6,
   "metadata": {
    "collapsed": false
   },
   "outputs": [],
   "source": [
    "# Boundary conditions for all maps (longitudes as x vals, latitudes as y vals)\n",
    "lonmin = -76.72\n",
    "lonmax = -76.52\n",
    "latmin = 39.19\n",
    "latmax = 39.38\n",
    "\n",
    "# number of points along each map edge\n",
    "# (total number of points is npts**2)\n",
    "npts = 40\n",
    "\n",
    "# generate appropriate lon/lat grid\n",
    "x = np.linspace(lonmin, lonmax, npts)\n",
    "y = np.linspace(latmin, latmax, npts)\n",
    "\n",
    "restaurant_map = kde_map(x, y, restaurant)\n",
    "\n",
    "# compute recommendation map by multiplying dataframe\n",
    "# with multiplier array and summing accross rows\n",
    "\n",
    "# build a better way to filter top locations!!\n",
    "# plot the map\n",
    "\n",
    "plot_KDE(x, y, restaurant_map, 'Estimated Restaurant Density')\n",
    "plt.subplots_adjust(left=0.18, bottom=0.18, right=0.92, top=0.84)\n",
    "#plt.show()\n",
    "#plt.savefig('static/kde.png', transparent=True)"
   ]
  },
  {
   "cell_type": "code",
   "execution_count": 7,
   "metadata": {
    "collapsed": false
   },
   "outputs": [
    {
     "name": "stdout",
     "output_type": "stream",
     "text": [
      "Using matplotlib backend: MacOSX\n"
     ]
    }
   ],
   "source": [
    "%matplotlib"
   ]
  },
  {
   "cell_type": "code",
   "execution_count": 8,
   "metadata": {
    "collapsed": true
   },
   "outputs": [],
   "source": [
    "restaurant_map = kde_map(x, y, restaurant)\n",
    "crime_map = kde_map(x, y, crime)\n",
    "groceries_map = kde_map(x, y, groceries)\n",
    "parks_map = kde_map(x, y, parks)"
   ]
  },
  {
   "cell_type": "code",
   "execution_count": 11,
   "metadata": {
    "collapsed": false,
    "scrolled": true
   },
   "outputs": [],
   "source": [
    "from mpl_toolkits.mplot3d import Axes3D\n",
    "\n",
    "fig = plt.figure(figsize=(6,9))\n",
    "ax = fig.gca(projection='3d')\n",
    "\n",
    "X, Y = np.meshgrid(x,y)\n",
    "Z = np.ones(X.shape)*0\n",
    "\n",
    "\n",
    "restaurant_image = np.rot90(np.reshape(restaurant_map, (len(x), len(y))).T)\n",
    "crime_image = np.rot90(np.reshape(crime_map, (len(x), len(y))).T)\n",
    "groceries_image = np.rot90(np.reshape(groceries_map, (len(x), len(y))).T)\n",
    "parks_image = np.rot90(np.reshape(parks_map, (len(x), len(y))).T)\n",
    "\n",
    "\n",
    "ax.plot_surface(X, Y, Z, rstride=1, cstride=1, facecolors=plt.cm.RdBu(restaurant_image), shade=False, alpha=0.4)\n",
    "ax.plot_surface(X, Y, Z+1, rstride=1, cstride=1, facecolors=plt.cm.RdBu(crime_image), shade=False, alpha=0.4)\n",
    "ax.plot_surface(X, Y, Z+2, rstride=1, cstride=1, facecolors=plt.cm.RdBu(groceries_image), shade=False, alpha=0.4)\n",
    "ax.plot_surface(X, Y, Z+3, rstride=1, cstride=1, facecolors=plt.cm.RdBu(parks_image), shade=False, alpha=0.4)\n",
    "\n",
    "ax.legend()\n",
    "ax.set_xlim3d(lonmin, lonmax)\n",
    "ax.set_ylim3d(latmin, latmax)\n",
    "ax.set_zlim3d(0, 4)\n",
    "\n",
    "#ax.set_xticks(lng_bins)\n",
    "#ax.set_yticks(lat_bins)\n",
    "ax.set_zticks([1,2,3,4])\n",
    "ax.set_xticklabels([])\n",
    "ax.set_yticklabels([])\n",
    "ax.set_zticklabels([])\n",
    "\n",
    "ax.set_xlabel('\\nLongitude', fontsize=16, linespacing=-4)\n",
    "ax.set_ylabel('\\nLatitude', fontsize=16, linespacing=-4)\n",
    "ax.set_zlabel('\\nDensity Maps', fontsize=16, linespacing=-1)\n",
    "ax.view_init(elev=14, azim=-59)\n",
    "plt.savefig('static/all_maps.png', transparent=True)\n",
    "#plt.show()"
   ]
  },
  {
   "cell_type": "code",
   "execution_count": 24,
   "metadata": {
    "collapsed": false
   },
   "outputs": [
    {
     "ename": "NameError",
     "evalue": "name 'xx' is not defined",
     "output_type": "error",
     "traceback": [
      "\u001b[0;31m---------------------------------------------------------------------------\u001b[0m",
      "\u001b[0;31mNameError\u001b[0m                                 Traceback (most recent call last)",
      "\u001b[0;32m<ipython-input-24-0784331f9f4b>\u001b[0m in \u001b[0;36m<module>\u001b[0;34m()\u001b[0m\n\u001b[1;32m      1\u001b[0m \u001b[0;31m# create vertices for a rotated mesh (3D rotation matrix)\u001b[0m\u001b[0;34m\u001b[0m\u001b[0;34m\u001b[0m\u001b[0m\n\u001b[0;32m----> 2\u001b[0;31m \u001b[0mX\u001b[0m \u001b[0;34m=\u001b[0m  \u001b[0mxx\u001b[0m\u001b[0;34m\u001b[0m\u001b[0m\n\u001b[0m\u001b[1;32m      3\u001b[0m \u001b[0mY\u001b[0m \u001b[0;34m=\u001b[0m  \u001b[0myy\u001b[0m\u001b[0;34m\u001b[0m\u001b[0m\n\u001b[1;32m      4\u001b[0m \u001b[0mZ\u001b[0m \u001b[0;34m=\u001b[0m  \u001b[0;36m10\u001b[0m\u001b[0;34m*\u001b[0m\u001b[0mnp\u001b[0m\u001b[0;34m.\u001b[0m\u001b[0mones\u001b[0m\u001b[0;34m(\u001b[0m\u001b[0mX\u001b[0m\u001b[0;34m.\u001b[0m\u001b[0mshape\u001b[0m\u001b[0;34m)\u001b[0m\u001b[0;34m\u001b[0m\u001b[0m\n\u001b[1;32m      5\u001b[0m \u001b[0;34m\u001b[0m\u001b[0m\n",
      "\u001b[0;31mNameError\u001b[0m: name 'xx' is not defined"
     ]
    }
   ],
   "source": [
    "# create vertices for a rotated mesh (3D rotation matrix)\n",
    "X =  xx \n",
    "Y =  yy\n",
    "Z =  10*np.ones(X.shape)\n",
    "\n",
    "# create some dummy data (20 x 20) for the image\n",
    "data = np.cos(xx) * np.cos(xx) + np.sin(yy) * np.sin(yy)\n",
    "\n",
    "# create the figure\n",
    "fig = plt.figure()\n",
    "\n",
    "# show the reference image\n",
    "ax1 = fig.add_subplot(121)\n",
    "ax1.imshow(data, cmap=plt.cm.BrBG, interpolation='nearest', origin='lower', extent=[0,1,0,1])\n",
    "\n",
    "# show the 3D rotated projection\n",
    "ax2 = fig.add_subplot(122, projection='3d')\n",
    "ax2.plot_surface(X, Y, Z, rstride=1, cstride=1, facecolors=plt.cm.BrBG(data), shade=False)"
   ]
  },
  {
   "cell_type": "code",
   "execution_count": null,
   "metadata": {
    "collapsed": true
   },
   "outputs": [],
   "source": []
  }
 ],
 "metadata": {
  "kernelspec": {
   "display_name": "Python 2",
   "language": "python",
   "name": "python2"
  },
  "language_info": {
   "codemirror_mode": {
    "name": "ipython",
    "version": 2
   },
   "file_extension": ".py",
   "mimetype": "text/x-python",
   "name": "python",
   "nbconvert_exporter": "python",
   "pygments_lexer": "ipython2",
   "version": "2.7.11"
  }
 },
 "nbformat": 4,
 "nbformat_minor": 0
}
