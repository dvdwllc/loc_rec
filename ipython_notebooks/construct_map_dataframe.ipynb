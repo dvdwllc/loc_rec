{
 "cells": [
  {
   "cell_type": "code",
   "execution_count": 1,
   "metadata": {
    "collapsed": true
   },
   "outputs": [],
   "source": [
    "from scripts import mapcalc_kde\n",
    "import pandas as pd\n",
    "import numpy as np\n",
    "import dill"
   ]
  },
  {
   "cell_type": "code",
   "execution_count": 3,
   "metadata": {
    "collapsed": true
   },
   "outputs": [],
   "source": [
    "# read in geocoded datasets as Pandas dataframes\n",
    "arrests = pd.read_csv('Django_old/clean_data/arrests_GIS.csv')\n",
    "schools = pd.read_csv('Django_old/clean_data/school_list_GIS.csv')\n",
    "restaurants = pd.read_csv('Django_old/clean_data/restaurant_list_GIS.csv')\n",
    "restaurants = restaurants[restaurants['Longitude'] < 0] # filter out bad values\n",
    "groceries = pd.read_csv('Django_old/clean_data/grocerystore_list_GIS.csv')\n",
    "vacancies = pd.read_csv('Django_old/clean_data/vacancies_GIS.csv')\n",
    "museums = pd.read_csv('Django_old/clean_data/museums_GIS.csv')\n",
    "parks = pd.read_csv('Django_old/clean_data/parks_GIS.csv')\n",
    "liquor = pd.read_csv('Django_old/clean_data/Liquor_GIS.csv')\n",
    "libraries = pd.read_csv('Django_old/clean_data/Libraries_GIS.csv')"
   ]
  },
  {
   "cell_type": "code",
   "execution_count": null,
   "metadata": {
    "collapsed": true
   },
   "outputs": [],
   "source": [
    "\"\"\"\n",
    "Compute and dump kernels as dill files.\n",
    "\"\"\"\n",
    "\n",
    "bandwidth = None # Choose 'None' for Scott-type bandwidth determination\n",
    "\n",
    "# names of datasets, in order\n",
    "datas = [arrests, vacancies, groceries, restaurants, schools, museums, parks, liquor, libraries]\n",
    "names = ['crime', 'vacancy', 'grocery', 'restaurant', 'schools', 'museums', 'parks', 'liquor', 'libraries']\n",
    "\n",
    "# loop through and dump kernels into dills/\n",
    "for i in range(len(names)):\n",
    "    kernel = mapcalc_kde.compute_kde(datas[i]['Longitude'], datas[i]['Latitude'], 0.15)\n",
    "    dill.dump(kernel, open('dills/'+names[i]+'_dynamicBW.dill', 'w'))"
   ]
  },
  {
   "cell_type": "code",
   "execution_count": 4,
   "metadata": {
    "collapsed": false
   },
   "outputs": [],
   "source": [
    "# load the kernels\n",
    "crime = dill.load(open('dills/crime_dynamicBW.dill', 'r'))\n",
    "vacancy = dill.load(open('dills/vacancy_dynamicBW.dill', 'r'))\n",
    "grocery = dill.load(open('dills/grocery_dynamicBW.dill', 'r'))\n",
    "restaurant = dill.load(open('dills/restaurant_dynamicBW.dill', 'r'))\n",
    "schools = dill.load(open('dills/schools_dynamicBW.dill', 'r'))\n",
    "museums = dill.load(open('dills/museums_dynamicBW.dill', 'r'))\n",
    "parks = dill.load(open('dills/parks_dynamicBW.dill', 'r'))\n",
    "liquor = dill.load(open('dills/liquor_dynamicBW.dill', 'r'))\n",
    "libraries = dill.load(open('dills/libraries_dynamicBW.dill', 'r'))"
   ]
  },
  {
   "cell_type": "code",
   "execution_count": 6,
   "metadata": {
    "collapsed": false
   },
   "outputs": [],
   "source": [
    "\"\"\"Define map and grid of points at which to compute kernel densities\"\"\"\n",
    "\n",
    "# Boundary conditions for all maps (longitudes as x vals, latitudes as y vals)\n",
    "lonmin = -76.72\n",
    "lonmax = -76.52\n",
    "latmin = 39.19\n",
    "latmax = 39.38\n",
    "\n",
    "# number of points along each map edge\n",
    "# (total number of points is npts**2)\n",
    "npts = 200\n",
    "\n",
    "#generate appropriate lon/lat grid\n",
    "x = np.linspace(lonmin, lonmax, npts)\n",
    "y = np.linspace(latmin, latmax, npts)\n",
    "X, Y = np.meshgrid(x, y, indexing='ij')\n",
    "\n",
    "# array of (lon/lat) pairs\n",
    "positions = np.vstack([X.ravel(), Y.ravel()])\n",
    "\n",
    "# compute individual maps\n",
    "crime_map = mapcalc_kde.kde_map(x, y, crime)\n",
    "vacancy_map = mapcalc_kde.kde_map(x, y, vacancy)\n",
    "grocery_map = mapcalc_kde.kde_map(x, y, grocery)\n",
    "restaurant_map = mapcalc_kde.kde_map(x, y, restaurant)\n",
    "schools_map = mapcalc_kde.kde_map(x, y, schools)\n",
    "museums_map = mapcalc_kde.kde_map(x, y, museums)\n",
    "parks_map = mapcalc_kde.kde_map(x, y, parks)\n",
    "liquor_map = mapcalc_kde.kde_map(x, y, liquor)\n",
    "libraries_map = mapcalc_kde.kde_map(x, y, libraries)\n",
    "\n",
    "# build a dataframe of all maps (as flattened arrays of length npts**2)\n",
    "map_df = pd.DataFrame({\n",
    "        'crime':crime_map, \n",
    "        'vacancy':vacancy_map, \n",
    "        'grocery':grocery_map, \n",
    "        'restaurant':restaurant_map, \n",
    "        'schools':schools_map,\n",
    "        'museums':museums_map,\n",
    "        'parks':parks_map,\n",
    "        'liquor':liquor_map,\n",
    "        'libraries':libraries_map\n",
    "    })\n",
    "\n",
    "# dump the whole dataframe\n",
    "dill.dump(map_df, open('dills/map_df_dynamicBW.dill', 'w'))"
   ]
  },
  {
   "cell_type": "code",
   "execution_count": 20,
   "metadata": {
    "collapsed": false
   },
   "outputs": [],
   "source": []
  }
 ],
 "metadata": {
  "kernelspec": {
   "display_name": "Python 2",
   "language": "python",
   "name": "python2"
  },
  "language_info": {
   "codemirror_mode": {
    "name": "ipython",
    "version": 2
   },
   "file_extension": ".py",
   "mimetype": "text/x-python",
   "name": "python",
   "nbconvert_exporter": "python",
   "pygments_lexer": "ipython2",
   "version": "2.7.11"
  }
 },
 "nbformat": 4,
 "nbformat_minor": 0
}
