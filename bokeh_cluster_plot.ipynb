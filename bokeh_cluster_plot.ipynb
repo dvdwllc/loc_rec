{
 "cells": [
  {
   "cell_type": "code",
   "execution_count": 1,
   "metadata": {
    "collapsed": true
   },
   "outputs": [],
   "source": [
    "import numpy as np\n",
    "import pandas as pd\n",
    "import dill"
   ]
  },
  {
   "cell_type": "code",
   "execution_count": 2,
   "metadata": {
    "collapsed": true
   },
   "outputs": [],
   "source": [
    "clusters_df = dill.load(open('dills/clusters_df.dill', 'rb'))"
   ]
  },
  {
   "cell_type": "code",
   "execution_count": 3,
   "metadata": {
    "collapsed": false
   },
   "outputs": [],
   "source": [
    "for i in range(len(clusters_df)):\n",
    "    clusters_df.iloc[i] = clusters_df.iloc[i] / clusters_df.iloc[i].sum()"
   ]
  },
  {
   "cell_type": "markdown",
   "metadata": {},
   "source": [
    "First, I'll learn how to plot the clusters on a map using bokeh."
   ]
  },
  {
   "cell_type": "code",
   "execution_count": 4,
   "metadata": {
    "collapsed": false
   },
   "outputs": [
    {
     "data": {
      "text/html": [
       "<div>\n",
       "<table border=\"1\" class=\"dataframe\">\n",
       "  <thead>\n",
       "    <tr style=\"text-align: right;\">\n",
       "      <th></th>\n",
       "      <th>crime</th>\n",
       "      <th>grocery</th>\n",
       "      <th>libraries</th>\n",
       "      <th>liquor</th>\n",
       "      <th>museums</th>\n",
       "      <th>parks</th>\n",
       "      <th>restaurant</th>\n",
       "      <th>schools</th>\n",
       "      <th>vacancy</th>\n",
       "    </tr>\n",
       "  </thead>\n",
       "  <tbody>\n",
       "    <tr>\n",
       "      <th>0</th>\n",
       "      <td>0.110779</td>\n",
       "      <td>0.123422</td>\n",
       "      <td>0.062883</td>\n",
       "      <td>0.102793</td>\n",
       "      <td>0.061555</td>\n",
       "      <td>0.193634</td>\n",
       "      <td>0.090030</td>\n",
       "      <td>0.229635</td>\n",
       "      <td>0.025269</td>\n",
       "    </tr>\n",
       "    <tr>\n",
       "      <th>1</th>\n",
       "      <td>0.088239</td>\n",
       "      <td>0.153412</td>\n",
       "      <td>0.336663</td>\n",
       "      <td>0.068456</td>\n",
       "      <td>0.008707</td>\n",
       "      <td>0.076167</td>\n",
       "      <td>0.062509</td>\n",
       "      <td>0.174465</td>\n",
       "      <td>0.031383</td>\n",
       "    </tr>\n",
       "    <tr>\n",
       "      <th>2</th>\n",
       "      <td>0.089163</td>\n",
       "      <td>0.099658</td>\n",
       "      <td>0.059479</td>\n",
       "      <td>0.217178</td>\n",
       "      <td>0.209809</td>\n",
       "      <td>0.056100</td>\n",
       "      <td>0.215908</td>\n",
       "      <td>0.046027</td>\n",
       "      <td>0.006679</td>\n",
       "    </tr>\n",
       "    <tr>\n",
       "      <th>3</th>\n",
       "      <td>0.173894</td>\n",
       "      <td>0.100476</td>\n",
       "      <td>0.060957</td>\n",
       "      <td>0.067357</td>\n",
       "      <td>0.018565</td>\n",
       "      <td>0.138856</td>\n",
       "      <td>0.057729</td>\n",
       "      <td>0.207249</td>\n",
       "      <td>0.174919</td>\n",
       "    </tr>\n",
       "    <tr>\n",
       "      <th>4</th>\n",
       "      <td>0.125358</td>\n",
       "      <td>0.218059</td>\n",
       "      <td>0.079034</td>\n",
       "      <td>0.074163</td>\n",
       "      <td>0.019256</td>\n",
       "      <td>0.123979</td>\n",
       "      <td>0.067900</td>\n",
       "      <td>0.242681</td>\n",
       "      <td>0.049570</td>\n",
       "    </tr>\n",
       "    <tr>\n",
       "      <th>5</th>\n",
       "      <td>0.151643</td>\n",
       "      <td>0.079354</td>\n",
       "      <td>0.032439</td>\n",
       "      <td>0.048971</td>\n",
       "      <td>0.026861</td>\n",
       "      <td>0.276069</td>\n",
       "      <td>0.029673</td>\n",
       "      <td>0.178137</td>\n",
       "      <td>0.176853</td>\n",
       "    </tr>\n",
       "    <tr>\n",
       "      <th>6</th>\n",
       "      <td>0.220715</td>\n",
       "      <td>0.067106</td>\n",
       "      <td>0.072621</td>\n",
       "      <td>0.074009</td>\n",
       "      <td>0.030099</td>\n",
       "      <td>0.079367</td>\n",
       "      <td>0.061454</td>\n",
       "      <td>0.137762</td>\n",
       "      <td>0.256866</td>\n",
       "    </tr>\n",
       "    <tr>\n",
       "      <th>7</th>\n",
       "      <td>0.092185</td>\n",
       "      <td>0.155353</td>\n",
       "      <td>0.136704</td>\n",
       "      <td>0.147640</td>\n",
       "      <td>0.102987</td>\n",
       "      <td>0.090165</td>\n",
       "      <td>0.152105</td>\n",
       "      <td>0.100118</td>\n",
       "      <td>0.022743</td>\n",
       "    </tr>\n",
       "  </tbody>\n",
       "</table>\n",
       "</div>"
      ],
      "text/plain": [
       "      crime   grocery  libraries    liquor   museums     parks  restaurant  \\\n",
       "0  0.110779  0.123422   0.062883  0.102793  0.061555  0.193634    0.090030   \n",
       "1  0.088239  0.153412   0.336663  0.068456  0.008707  0.076167    0.062509   \n",
       "2  0.089163  0.099658   0.059479  0.217178  0.209809  0.056100    0.215908   \n",
       "3  0.173894  0.100476   0.060957  0.067357  0.018565  0.138856    0.057729   \n",
       "4  0.125358  0.218059   0.079034  0.074163  0.019256  0.123979    0.067900   \n",
       "5  0.151643  0.079354   0.032439  0.048971  0.026861  0.276069    0.029673   \n",
       "6  0.220715  0.067106   0.072621  0.074009  0.030099  0.079367    0.061454   \n",
       "7  0.092185  0.155353   0.136704  0.147640  0.102987  0.090165    0.152105   \n",
       "\n",
       "    schools   vacancy  \n",
       "0  0.229635  0.025269  \n",
       "1  0.174465  0.031383  \n",
       "2  0.046027  0.006679  \n",
       "3  0.207249  0.174919  \n",
       "4  0.242681  0.049570  \n",
       "5  0.178137  0.176853  \n",
       "6  0.137762  0.256866  \n",
       "7  0.100118  0.022743  "
      ]
     },
     "execution_count": 4,
     "metadata": {},
     "output_type": "execute_result"
    }
   ],
   "source": [
    "clusters_df"
   ]
  },
  {
   "cell_type": "code",
   "execution_count": 13,
   "metadata": {
    "collapsed": false
   },
   "outputs": [],
   "source": [
    "from bokeh.io import output_notebook, output_file, show, save, hplot\n",
    "from bokeh.models import (\n",
    "  GMapPlot, GMapOptions, ColumnDataSource, Circle, DataRange1d, PanTool, WheelZoomTool, BoxSelectTool\n",
    ")\n",
    "output_file('clusters.html')"
   ]
  },
  {
   "cell_type": "code",
   "execution_count": 6,
   "metadata": {
    "collapsed": true
   },
   "outputs": [],
   "source": [
    "# we'll use this to plot each cluster on the map\n",
    "def select_latlon_for_cluster(\n",
    "    clusters_dataframe, \n",
    "    cluster_number, \n",
    "    npts, \n",
    "    gridpoints\n",
    "):\n",
    "    \"\"\"\n",
    "    Function to select lat, lon coordinates for each cluster.\n",
    "    \"\"\"\n",
    "    cluster_points = np.argwhere(np.reshape(clusters_dataframe, (npts, npts)).T.flatten() == cluster_number)\n",
    "    \n",
    "    lat, lon = ([gridpoints.T[i,1][0] for i in cluster_points], \n",
    "                [gridpoints.T[i,0][0] for i in cluster_points])\n",
    "\n",
    "    return lat, lon"
   ]
  },
  {
   "cell_type": "code",
   "execution_count": 7,
   "metadata": {
    "collapsed": false
   },
   "outputs": [],
   "source": [
    "# Boundary conditions for all maps (longitudes as x vals, latitudes as y vals)\n",
    "lonmin = -76.72\n",
    "lonmax = -76.52\n",
    "latmin = 39.19\n",
    "latmax = 39.38\n",
    "\n",
    "# load the dilled dataframe\n",
    "clusters_map = dill.load(open('dills/clusters_map.dill'))\n",
    "\n",
    "# number of points along each map edge\n",
    "# (total number of points is npts**2)\n",
    "npts = np.sqrt(len(clusters_map))\n",
    "\n",
    "# generate appropriate lon/lat grid\n",
    "x = np.linspace(lonmin, lonmax, npts)\n",
    "y = np.linspace(latmin, latmax, npts)\n",
    "\n",
    "X, Y = np.meshgrid(x, y, indexing='ij')\n",
    "\n",
    "# grid for heatmap calculation\n",
    "grid_points = np.vstack([X.ravel(), Y.ravel()])"
   ]
  },
  {
   "cell_type": "code",
   "execution_count": 15,
   "metadata": {
    "collapsed": true
   },
   "outputs": [],
   "source": [
    "from bokeh.palettes import Spectral7\n",
    "from bokeh.models import HoverTool"
   ]
  },
  {
   "cell_type": "code",
   "execution_count": 22,
   "metadata": {
    "collapsed": false
   },
   "outputs": [
    {
     "ename": "SyntaxError",
     "evalue": "invalid syntax (<ipython-input-22-0a858f1263d5>, line 35)",
     "output_type": "error",
     "traceback": [
      "\u001b[0;36m  File \u001b[0;32m\"<ipython-input-22-0a858f1263d5>\"\u001b[0;36m, line \u001b[0;32m35\u001b[0m\n\u001b[0;31m    show(plot) THIS DOESN'T WORK\u001b[0m\n\u001b[0m                  ^\u001b[0m\n\u001b[0;31mSyntaxError\u001b[0m\u001b[0;31m:\u001b[0m invalid syntax\n"
     ]
    }
   ],
   "source": [
    "map_options = GMapOptions(lat = 39.294631, lng = -76.613419, zoom = 13, map_type=\"hybrid\")\n",
    "\n",
    "plot1 = GMapPlot(\n",
    "    x_range=DataRange1d(), y_range=DataRange1d(), map_options=map_options, title=\"Baltimore\"\n",
    ")\n",
    "\n",
    "for cluster_number in range(1,8):\n",
    "    lat, lon = select_latlon_for_cluster(\n",
    "        clusters_map, \n",
    "        cluster_number,\n",
    "        npts,\n",
    "        grid_points\n",
    "    )\n",
    "    \n",
    "    source = ColumnDataSource(\n",
    "        data=dict(\n",
    "            lats=lat,\n",
    "            lons=lon,\n",
    "            desc=cluster_number\n",
    "        )\n",
    "    )\n",
    "    hover = HoverTool(\n",
    "        tooltips=[\n",
    "            (\"cluster number\", \"@desc\")\n",
    "        ]\n",
    "    )\n",
    "    \n",
    "    circle = Circle(x=\"lons\", y=\"lats\", size=5, fill_color=Spectral7[cluster_number-1], fill_alpha=0.55, line_color=None)\n",
    "    plot1.add_glyph(source, circle)\n",
    "    \n",
    "\n",
    "\n",
    "plot1.add_tools(PanTool(), WheelZoomTool(), BoxSelectTool(), HoverTool())\n",
    "save(plot1)\n",
    "#show(plot) THIS DOESN'T WORK"
   ]
  },
  {
   "cell_type": "code",
   "execution_count": 10,
   "metadata": {
    "collapsed": false
   },
   "outputs": [],
   "source": [
    "from bokeh.charts import Bar"
   ]
  },
  {
   "cell_type": "code",
   "execution_count": 11,
   "metadata": {
    "collapsed": false
   },
   "outputs": [
    {
     "ename": "NameError",
     "evalue": "name 'map_df' is not defined",
     "output_type": "error",
     "traceback": [
      "\u001b[0;31m---------------------------------------------------------------------------\u001b[0m",
      "\u001b[0;31mNameError\u001b[0m                                 Traceback (most recent call last)",
      "\u001b[0;32m<ipython-input-11-284850a71acf>\u001b[0m in \u001b[0;36m<module>\u001b[0;34m()\u001b[0m\n\u001b[0;32m----> 1\u001b[0;31m \u001b[0mmap_df\u001b[0m\u001b[0;34m[\u001b[0m\u001b[0;34m'cluster'\u001b[0m\u001b[0;34m]\u001b[0m \u001b[0;34m=\u001b[0m \u001b[0mclusters_map\u001b[0m\u001b[0;34m\u001b[0m\u001b[0m\n\u001b[0m",
      "\u001b[0;31mNameError\u001b[0m: name 'map_df' is not defined"
     ]
    }
   ],
   "source": [
    "map_df['cluster'] = clusters_map"
   ]
  },
  {
   "cell_type": "code",
   "execution_count": 23,
   "metadata": {
    "collapsed": false
   },
   "outputs": [
    {
     "data": {
      "text/plain": [
       "['#3288bd', '#99d594', '#e6f598', '#ffffbf', '#fee08b', '#fc8d59', '#d53e4f']"
      ]
     },
     "execution_count": 23,
     "metadata": {},
     "output_type": "execute_result"
    }
   ],
   "source": [
    "Spectral7"
   ]
  },
  {
   "cell_type": "code",
   "execution_count": 45,
   "metadata": {
    "collapsed": false
   },
   "outputs": [
    {
     "data": {
      "text/html": [
       "<div>\n",
       "<table border=\"1\" class=\"dataframe\">\n",
       "  <thead>\n",
       "    <tr style=\"text-align: right;\">\n",
       "      <th></th>\n",
       "      <th>crime</th>\n",
       "      <th>grocery</th>\n",
       "      <th>libraries</th>\n",
       "      <th>liquor</th>\n",
       "      <th>museums</th>\n",
       "      <th>parks</th>\n",
       "      <th>restaurant</th>\n",
       "      <th>schools</th>\n",
       "      <th>vacancy</th>\n",
       "      <th>cluster number</th>\n",
       "    </tr>\n",
       "  </thead>\n",
       "  <tbody>\n",
       "    <tr>\n",
       "      <th>0</th>\n",
       "      <td>1203.788799</td>\n",
       "      <td>1341.173036</td>\n",
       "      <td>683.320328</td>\n",
       "      <td>1117.004784</td>\n",
       "      <td>668.889754</td>\n",
       "      <td>2104.128705</td>\n",
       "      <td>978.313064</td>\n",
       "      <td>2495.338958</td>\n",
       "      <td>274.589564</td>\n",
       "      <td>0</td>\n",
       "    </tr>\n",
       "    <tr>\n",
       "      <th>1</th>\n",
       "      <td>1989.849968</td>\n",
       "      <td>3459.554051</td>\n",
       "      <td>7591.991535</td>\n",
       "      <td>1543.726978</td>\n",
       "      <td>196.347553</td>\n",
       "      <td>1717.618042</td>\n",
       "      <td>1409.627948</td>\n",
       "      <td>3934.319355</td>\n",
       "      <td>707.702828</td>\n",
       "      <td>1</td>\n",
       "    </tr>\n",
       "    <tr>\n",
       "      <th>2</th>\n",
       "      <td>1407.216539</td>\n",
       "      <td>1572.848646</td>\n",
       "      <td>938.720802</td>\n",
       "      <td>3427.611299</td>\n",
       "      <td>3311.300495</td>\n",
       "      <td>885.404182</td>\n",
       "      <td>3407.560000</td>\n",
       "      <td>726.418146</td>\n",
       "      <td>105.408323</td>\n",
       "      <td>2</td>\n",
       "    </tr>\n",
       "    <tr>\n",
       "      <th>3</th>\n",
       "      <td>3926.626835</td>\n",
       "      <td>2268.815742</td>\n",
       "      <td>1376.455827</td>\n",
       "      <td>1520.957626</td>\n",
       "      <td>419.205193</td>\n",
       "      <td>3135.447718</td>\n",
       "      <td>1303.548140</td>\n",
       "      <td>4679.804920</td>\n",
       "      <td>3949.777948</td>\n",
       "      <td>3</td>\n",
       "    </tr>\n",
       "    <tr>\n",
       "      <th>4</th>\n",
       "      <td>5006.632131</td>\n",
       "      <td>8708.978776</td>\n",
       "      <td>3156.529754</td>\n",
       "      <td>2961.970008</td>\n",
       "      <td>769.079936</td>\n",
       "      <td>4951.567098</td>\n",
       "      <td>2711.825885</td>\n",
       "      <td>9692.380554</td>\n",
       "      <td>1979.756865</td>\n",
       "      <td>4</td>\n",
       "    </tr>\n",
       "    <tr>\n",
       "      <th>5</th>\n",
       "      <td>1794.469740</td>\n",
       "      <td>939.042437</td>\n",
       "      <td>383.867647</td>\n",
       "      <td>579.502482</td>\n",
       "      <td>317.859186</td>\n",
       "      <td>3266.865819</td>\n",
       "      <td>351.132920</td>\n",
       "      <td>2107.993487</td>\n",
       "      <td>2092.797925</td>\n",
       "      <td>5</td>\n",
       "    </tr>\n",
       "    <tr>\n",
       "      <th>6</th>\n",
       "      <td>3289.594013</td>\n",
       "      <td>1000.172097</td>\n",
       "      <td>1082.356540</td>\n",
       "      <td>1103.043076</td>\n",
       "      <td>448.606541</td>\n",
       "      <td>1182.912929</td>\n",
       "      <td>915.928067</td>\n",
       "      <td>2053.245080</td>\n",
       "      <td>3828.400120</td>\n",
       "      <td>6</td>\n",
       "    </tr>\n",
       "    <tr>\n",
       "      <th>7</th>\n",
       "      <td>2689.011583</td>\n",
       "      <td>4531.609665</td>\n",
       "      <td>3987.622253</td>\n",
       "      <td>4306.628371</td>\n",
       "      <td>3004.118277</td>\n",
       "      <td>2630.094400</td>\n",
       "      <td>4436.882627</td>\n",
       "      <td>2920.409387</td>\n",
       "      <td>663.398892</td>\n",
       "      <td>7</td>\n",
       "    </tr>\n",
       "  </tbody>\n",
       "</table>\n",
       "</div>"
      ],
      "text/plain": [
       "         crime      grocery    libraries       liquor      museums  \\\n",
       "0  1203.788799  1341.173036   683.320328  1117.004784   668.889754   \n",
       "1  1989.849968  3459.554051  7591.991535  1543.726978   196.347553   \n",
       "2  1407.216539  1572.848646   938.720802  3427.611299  3311.300495   \n",
       "3  3926.626835  2268.815742  1376.455827  1520.957626   419.205193   \n",
       "4  5006.632131  8708.978776  3156.529754  2961.970008   769.079936   \n",
       "5  1794.469740   939.042437   383.867647   579.502482   317.859186   \n",
       "6  3289.594013  1000.172097  1082.356540  1103.043076   448.606541   \n",
       "7  2689.011583  4531.609665  3987.622253  4306.628371  3004.118277   \n",
       "\n",
       "         parks   restaurant      schools      vacancy  cluster number  \n",
       "0  2104.128705   978.313064  2495.338958   274.589564               0  \n",
       "1  1717.618042  1409.627948  3934.319355   707.702828               1  \n",
       "2   885.404182  3407.560000   726.418146   105.408323               2  \n",
       "3  3135.447718  1303.548140  4679.804920  3949.777948               3  \n",
       "4  4951.567098  2711.825885  9692.380554  1979.756865               4  \n",
       "5  3266.865819   351.132920  2107.993487  2092.797925               5  \n",
       "6  1182.912929   915.928067  2053.245080  3828.400120               6  \n",
       "7  2630.094400  4436.882627  2920.409387   663.398892               7  "
      ]
     },
     "execution_count": 45,
     "metadata": {},
     "output_type": "execute_result"
    }
   ],
   "source": [
    "clusters_df"
   ]
  },
  {
   "cell_type": "code",
   "execution_count": 35,
   "metadata": {
    "collapsed": false
   },
   "outputs": [],
   "source": [
    "clusters_df['cluster number'] = clusters_df.index.values"
   ]
  },
  {
   "cell_type": "code",
   "execution_count": 54,
   "metadata": {
    "collapsed": false
   },
   "outputs": [
    {
     "ename": "ValueError",
     "evalue": "expected an element of List(String), got seq with invalid items [1]",
     "output_type": "error",
     "traceback": [
      "\u001b[0;31m---------------------------------------------------------------------------\u001b[0m",
      "\u001b[0;31mValueError\u001b[0m                                Traceback (most recent call last)",
      "\u001b[0;32m<ipython-input-54-7b998db51347>\u001b[0m in \u001b[0;36m<module>\u001b[0;34m()\u001b[0m\n\u001b[1;32m      1\u001b[0m \u001b[0;32mfor\u001b[0m \u001b[0mi\u001b[0m \u001b[0;32min\u001b[0m \u001b[0mrange\u001b[0m\u001b[0;34m(\u001b[0m\u001b[0;36m1\u001b[0m\u001b[0;34m,\u001b[0m\u001b[0;36m2\u001b[0m\u001b[0;34m)\u001b[0m\u001b[0;34m:\u001b[0m\u001b[0;34m\u001b[0m\u001b[0m\n\u001b[0;32m----> 2\u001b[0;31m     \u001b[0mfig\u001b[0m \u001b[0;34m=\u001b[0m \u001b[0mBar\u001b[0m\u001b[0;34m(\u001b[0m\u001b[0mclusters_df\u001b[0m\u001b[0;34m.\u001b[0m\u001b[0miloc\u001b[0m\u001b[0;34m[\u001b[0m\u001b[0mi\u001b[0m\u001b[0;34m]\u001b[0m\u001b[0;34m)\u001b[0m\u001b[0;31m#, fill_color=Spectral7[cluster_number-1])\u001b[0m\u001b[0;34m\u001b[0m\u001b[0m\n\u001b[0m\u001b[1;32m      3\u001b[0m     \u001b[0mshow\u001b[0m\u001b[0;34m(\u001b[0m\u001b[0mfig\u001b[0m\u001b[0;34m)\u001b[0m\u001b[0;34m\u001b[0m\u001b[0m\n",
      "\u001b[0;32m/Users/wallacdc/anaconda/lib/python2.7/site-packages/bokeh/charts/builders/bar_builder.pyc\u001b[0m in \u001b[0;36mBar\u001b[0;34m(data, label, values, color, stack, group, agg, xscale, yscale, xgrid, ygrid, continuous_range, **kw)\u001b[0m\n\u001b[1;32m    302\u001b[0m     \u001b[0mkw\u001b[0m\u001b[0;34m[\u001b[0m\u001b[0;34m'y_range'\u001b[0m\u001b[0;34m]\u001b[0m \u001b[0;34m=\u001b[0m \u001b[0my_range\u001b[0m\u001b[0;34m\u001b[0m\u001b[0m\n\u001b[1;32m    303\u001b[0m \u001b[0;34m\u001b[0m\u001b[0m\n\u001b[0;32m--> 304\u001b[0;31m     \u001b[0mchart\u001b[0m \u001b[0;34m=\u001b[0m \u001b[0mcreate_and_build\u001b[0m\u001b[0;34m(\u001b[0m\u001b[0mBarBuilder\u001b[0m\u001b[0;34m,\u001b[0m \u001b[0mdata\u001b[0m\u001b[0;34m,\u001b[0m \u001b[0;34m**\u001b[0m\u001b[0mkw\u001b[0m\u001b[0;34m)\u001b[0m\u001b[0;34m\u001b[0m\u001b[0m\n\u001b[0m\u001b[1;32m    305\u001b[0m \u001b[0;34m\u001b[0m\u001b[0m\n\u001b[1;32m    306\u001b[0m     \u001b[0;31m# hide x labels if there is a single value, implying stacking only\u001b[0m\u001b[0;34m\u001b[0m\u001b[0;34m\u001b[0m\u001b[0m\n",
      "\u001b[0;32m/Users/wallacdc/anaconda/lib/python2.7/site-packages/bokeh/charts/builder.pyc\u001b[0m in \u001b[0;36mcreate_and_build\u001b[0;34m(builder_class, *data, **kws)\u001b[0m\n\u001b[1;32m     60\u001b[0m     \u001b[0;31m# create the new builder\u001b[0m\u001b[0;34m\u001b[0m\u001b[0;34m\u001b[0m\u001b[0m\n\u001b[1;32m     61\u001b[0m     \u001b[0mbuilder_kws\u001b[0m \u001b[0;34m=\u001b[0m \u001b[0;34m{\u001b[0m\u001b[0mk\u001b[0m\u001b[0;34m:\u001b[0m \u001b[0mv\u001b[0m \u001b[0;32mfor\u001b[0m \u001b[0mk\u001b[0m\u001b[0;34m,\u001b[0m \u001b[0mv\u001b[0m \u001b[0;32min\u001b[0m \u001b[0mkws\u001b[0m\u001b[0;34m.\u001b[0m\u001b[0mitems\u001b[0m\u001b[0;34m(\u001b[0m\u001b[0;34m)\u001b[0m \u001b[0;32mif\u001b[0m \u001b[0mk\u001b[0m \u001b[0;32min\u001b[0m \u001b[0mbuilder_props\u001b[0m\u001b[0;34m}\u001b[0m\u001b[0;34m\u001b[0m\u001b[0m\n\u001b[0;32m---> 62\u001b[0;31m     \u001b[0mbuilder\u001b[0m \u001b[0;34m=\u001b[0m \u001b[0mbuilder_class\u001b[0m\u001b[0;34m(\u001b[0m\u001b[0;34m*\u001b[0m\u001b[0mdata\u001b[0m\u001b[0;34m,\u001b[0m \u001b[0;34m**\u001b[0m\u001b[0mbuilder_kws\u001b[0m\u001b[0;34m)\u001b[0m\u001b[0;34m\u001b[0m\u001b[0m\n\u001b[0m\u001b[1;32m     63\u001b[0m \u001b[0;34m\u001b[0m\u001b[0m\n\u001b[1;32m     64\u001b[0m     \u001b[0;31m# create a chart to return, since there isn't one already\u001b[0m\u001b[0;34m\u001b[0m\u001b[0;34m\u001b[0m\u001b[0m\n",
      "\u001b[0;32m/Users/wallacdc/anaconda/lib/python2.7/site-packages/bokeh/charts/builder.pyc\u001b[0m in \u001b[0;36m__init__\u001b[0;34m(self, *args, **kws)\u001b[0m\n\u001b[1;32m    280\u001b[0m \u001b[0;34m\u001b[0m\u001b[0m\n\u001b[1;32m    281\u001b[0m             \u001b[0;31m# handle input attrs and ensure attrs have access to data\u001b[0m\u001b[0;34m\u001b[0m\u001b[0;34m\u001b[0m\u001b[0m\n\u001b[0;32m--> 282\u001b[0;31m             \u001b[0mattributes\u001b[0m \u001b[0;34m=\u001b[0m \u001b[0mself\u001b[0m\u001b[0;34m.\u001b[0m\u001b[0m_setup_attrs\u001b[0m\u001b[0;34m(\u001b[0m\u001b[0mdata\u001b[0m\u001b[0;34m,\u001b[0m \u001b[0mkws\u001b[0m\u001b[0;34m)\u001b[0m\u001b[0;34m\u001b[0m\u001b[0m\n\u001b[0m\u001b[1;32m    283\u001b[0m \u001b[0;34m\u001b[0m\u001b[0m\n\u001b[1;32m    284\u001b[0m             \u001b[0;31m# remove inputs handled by dimensions and chart attributes\u001b[0m\u001b[0;34m\u001b[0m\u001b[0;34m\u001b[0m\u001b[0m\n",
      "\u001b[0;32m/Users/wallacdc/anaconda/lib/python2.7/site-packages/bokeh/charts/builder.pyc\u001b[0m in \u001b[0;36m_setup_attrs\u001b[0;34m(self, data, kws)\u001b[0m\n\u001b[1;32m    308\u001b[0m \u001b[0;34m\u001b[0m\u001b[0m\n\u001b[1;32m    309\u001b[0m         \"\"\"\n\u001b[0;32m--> 310\u001b[0;31m         \u001b[0msource\u001b[0m \u001b[0;34m=\u001b[0m \u001b[0mColumnDataSource\u001b[0m\u001b[0;34m(\u001b[0m\u001b[0mdata\u001b[0m\u001b[0;34m.\u001b[0m\u001b[0mdf\u001b[0m\u001b[0;34m)\u001b[0m\u001b[0;34m\u001b[0m\u001b[0m\n\u001b[0m\u001b[1;32m    311\u001b[0m         \u001b[0mattr_names\u001b[0m \u001b[0;34m=\u001b[0m \u001b[0mself\u001b[0m\u001b[0;34m.\u001b[0m\u001b[0mdefault_attributes\u001b[0m\u001b[0;34m.\u001b[0m\u001b[0mkeys\u001b[0m\u001b[0;34m(\u001b[0m\u001b[0;34m)\u001b[0m\u001b[0;34m\u001b[0m\u001b[0m\n\u001b[1;32m    312\u001b[0m         \u001b[0mcustom_palette\u001b[0m \u001b[0;34m=\u001b[0m \u001b[0mkws\u001b[0m\u001b[0;34m.\u001b[0m\u001b[0mget\u001b[0m\u001b[0;34m(\u001b[0m\u001b[0;34m'palette'\u001b[0m\u001b[0;34m)\u001b[0m\u001b[0;34m\u001b[0m\u001b[0m\n",
      "\u001b[0;32m/Users/wallacdc/anaconda/lib/python2.7/site-packages/bokeh/models/sources.pyc\u001b[0m in \u001b[0;36m__init__\u001b[0;34m(self, *args, **kw)\u001b[0m\n\u001b[1;32m     88\u001b[0m         \u001b[0msuper\u001b[0m\u001b[0;34m(\u001b[0m\u001b[0mColumnDataSource\u001b[0m\u001b[0;34m,\u001b[0m \u001b[0mself\u001b[0m\u001b[0;34m)\u001b[0m\u001b[0;34m.\u001b[0m\u001b[0m__init__\u001b[0m\u001b[0;34m(\u001b[0m\u001b[0;34m**\u001b[0m\u001b[0mkw\u001b[0m\u001b[0;34m)\u001b[0m\u001b[0;34m\u001b[0m\u001b[0m\n\u001b[1;32m     89\u001b[0m         \u001b[0;32mfor\u001b[0m \u001b[0mname\u001b[0m\u001b[0;34m,\u001b[0m \u001b[0mdata\u001b[0m \u001b[0;32min\u001b[0m \u001b[0mraw_data\u001b[0m\u001b[0;34m.\u001b[0m\u001b[0mitems\u001b[0m\u001b[0;34m(\u001b[0m\u001b[0;34m)\u001b[0m\u001b[0;34m:\u001b[0m\u001b[0;34m\u001b[0m\u001b[0m\n\u001b[0;32m---> 90\u001b[0;31m             \u001b[0mself\u001b[0m\u001b[0;34m.\u001b[0m\u001b[0madd\u001b[0m\u001b[0;34m(\u001b[0m\u001b[0mdata\u001b[0m\u001b[0;34m,\u001b[0m \u001b[0mname\u001b[0m\u001b[0;34m)\u001b[0m\u001b[0;34m\u001b[0m\u001b[0m\n\u001b[0m\u001b[1;32m     91\u001b[0m \u001b[0;34m\u001b[0m\u001b[0m\n\u001b[1;32m     92\u001b[0m     \u001b[0;34m@\u001b[0m\u001b[0mstaticmethod\u001b[0m\u001b[0;34m\u001b[0m\u001b[0m\n",
      "\u001b[0;32m/Users/wallacdc/anaconda/lib/python2.7/site-packages/bokeh/models/sources.pyc\u001b[0m in \u001b[0;36madd\u001b[0;34m(self, data, name)\u001b[0m\n\u001b[1;32m    166\u001b[0m                 \u001b[0mn\u001b[0m \u001b[0;34m+=\u001b[0m \u001b[0;36m1\u001b[0m\u001b[0;34m\u001b[0m\u001b[0m\n\u001b[1;32m    167\u001b[0m             \u001b[0mname\u001b[0m \u001b[0;34m=\u001b[0m \u001b[0;34m\"Series %d\"\u001b[0m\u001b[0;34m%\u001b[0m\u001b[0mn\u001b[0m\u001b[0;34m\u001b[0m\u001b[0m\n\u001b[0;32m--> 168\u001b[0;31m         \u001b[0mself\u001b[0m\u001b[0;34m.\u001b[0m\u001b[0mcolumn_names\u001b[0m\u001b[0;34m.\u001b[0m\u001b[0mappend\u001b[0m\u001b[0;34m(\u001b[0m\u001b[0mname\u001b[0m\u001b[0;34m)\u001b[0m\u001b[0;34m\u001b[0m\u001b[0m\n\u001b[0m\u001b[1;32m    169\u001b[0m         \u001b[0mself\u001b[0m\u001b[0;34m.\u001b[0m\u001b[0mdata\u001b[0m\u001b[0;34m[\u001b[0m\u001b[0mname\u001b[0m\u001b[0;34m]\u001b[0m \u001b[0;34m=\u001b[0m \u001b[0mdata\u001b[0m\u001b[0;34m\u001b[0m\u001b[0m\n\u001b[1;32m    170\u001b[0m         \u001b[0;32mreturn\u001b[0m \u001b[0mname\u001b[0m\u001b[0;34m\u001b[0m\u001b[0m\n",
      "\u001b[0;32m/Users/wallacdc/anaconda/lib/python2.7/site-packages/bokeh/core/property_containers.pyc\u001b[0m in \u001b[0;36mwrapper\u001b[0;34m(*args, **kwargs)\u001b[0m\n\u001b[1;32m     17\u001b[0m         \u001b[0mold\u001b[0m \u001b[0;34m=\u001b[0m \u001b[0mself\u001b[0m\u001b[0;34m.\u001b[0m\u001b[0m_saved_copy\u001b[0m\u001b[0;34m(\u001b[0m\u001b[0;34m)\u001b[0m\u001b[0;34m\u001b[0m\u001b[0m\n\u001b[1;32m     18\u001b[0m         \u001b[0mresult\u001b[0m \u001b[0;34m=\u001b[0m \u001b[0mfunc\u001b[0m\u001b[0;34m(\u001b[0m\u001b[0;34m*\u001b[0m\u001b[0margs\u001b[0m\u001b[0;34m,\u001b[0m \u001b[0;34m**\u001b[0m\u001b[0mkwargs\u001b[0m\u001b[0;34m)\u001b[0m\u001b[0;34m\u001b[0m\u001b[0m\n\u001b[0;32m---> 19\u001b[0;31m         \u001b[0mself\u001b[0m\u001b[0;34m.\u001b[0m\u001b[0m_notify_owners\u001b[0m\u001b[0;34m(\u001b[0m\u001b[0mold\u001b[0m\u001b[0;34m)\u001b[0m\u001b[0;34m\u001b[0m\u001b[0m\n\u001b[0m\u001b[1;32m     20\u001b[0m         \u001b[0;32mreturn\u001b[0m \u001b[0mresult\u001b[0m\u001b[0;34m\u001b[0m\u001b[0m\n\u001b[1;32m     21\u001b[0m     \u001b[0;32mreturn\u001b[0m \u001b[0mwrapper\u001b[0m\u001b[0;34m\u001b[0m\u001b[0m\n",
      "\u001b[0;32m/Users/wallacdc/anaconda/lib/python2.7/site-packages/bokeh/core/property_containers.pyc\u001b[0m in \u001b[0;36m_notify_owners\u001b[0;34m(self, old)\u001b[0m\n\u001b[1;32m     42\u001b[0m         \u001b[0mself\u001b[0m\u001b[0;34m.\u001b[0m\u001b[0m_unmodified_default_value\u001b[0m \u001b[0;34m=\u001b[0m \u001b[0mFalse\u001b[0m\u001b[0;34m\u001b[0m\u001b[0m\n\u001b[1;32m     43\u001b[0m         \u001b[0;32mfor\u001b[0m \u001b[0;34m(\u001b[0m\u001b[0mowner\u001b[0m\u001b[0;34m,\u001b[0m \u001b[0mprop\u001b[0m\u001b[0;34m)\u001b[0m \u001b[0;32min\u001b[0m \u001b[0mself\u001b[0m\u001b[0;34m.\u001b[0m\u001b[0m_owners\u001b[0m\u001b[0;34m:\u001b[0m\u001b[0;34m\u001b[0m\u001b[0m\n\u001b[0;32m---> 44\u001b[0;31m             \u001b[0mprop\u001b[0m\u001b[0;34m.\u001b[0m\u001b[0m_notify_mutated\u001b[0m\u001b[0;34m(\u001b[0m\u001b[0mowner\u001b[0m\u001b[0;34m,\u001b[0m \u001b[0mold\u001b[0m\u001b[0;34m)\u001b[0m\u001b[0;34m\u001b[0m\u001b[0m\n\u001b[0m\u001b[1;32m     45\u001b[0m \u001b[0;34m\u001b[0m\u001b[0m\n\u001b[1;32m     46\u001b[0m     \u001b[0;32mdef\u001b[0m \u001b[0m_saved_copy\u001b[0m\u001b[0;34m(\u001b[0m\u001b[0mself\u001b[0m\u001b[0;34m)\u001b[0m\u001b[0;34m:\u001b[0m\u001b[0;34m\u001b[0m\u001b[0m\n",
      "\u001b[0;32m/Users/wallacdc/anaconda/lib/python2.7/site-packages/bokeh/core/properties.pyc\u001b[0m in \u001b[0;36m_notify_mutated\u001b[0;34m(self, obj, old)\u001b[0m\n\u001b[1;32m    466\u001b[0m         \u001b[0;31m# re-validate because the contents of 'old' have changed,\u001b[0m\u001b[0;34m\u001b[0m\u001b[0;34m\u001b[0m\u001b[0m\n\u001b[1;32m    467\u001b[0m         \u001b[0;31m# in some cases this could give us a new object for the value\u001b[0m\u001b[0;34m\u001b[0m\u001b[0;34m\u001b[0m\u001b[0m\n\u001b[0;32m--> 468\u001b[0;31m         \u001b[0mvalue\u001b[0m \u001b[0;34m=\u001b[0m \u001b[0mself\u001b[0m\u001b[0;34m.\u001b[0m\u001b[0mdescriptor\u001b[0m\u001b[0;34m.\u001b[0m\u001b[0mprepare_value\u001b[0m\u001b[0;34m(\u001b[0m\u001b[0mobj\u001b[0m\u001b[0;34m.\u001b[0m\u001b[0m__class__\u001b[0m\u001b[0;34m,\u001b[0m \u001b[0mself\u001b[0m\u001b[0;34m.\u001b[0m\u001b[0mname\u001b[0m\u001b[0;34m,\u001b[0m \u001b[0mvalue\u001b[0m\u001b[0;34m)\u001b[0m\u001b[0;34m\u001b[0m\u001b[0m\n\u001b[0m\u001b[1;32m    469\u001b[0m \u001b[0;34m\u001b[0m\u001b[0m\n\u001b[1;32m    470\u001b[0m         \u001b[0mself\u001b[0m\u001b[0;34m.\u001b[0m\u001b[0m_real_set\u001b[0m\u001b[0;34m(\u001b[0m\u001b[0mobj\u001b[0m\u001b[0;34m,\u001b[0m \u001b[0mold\u001b[0m\u001b[0;34m,\u001b[0m \u001b[0mvalue\u001b[0m\u001b[0;34m)\u001b[0m\u001b[0;34m\u001b[0m\u001b[0m\n",
      "\u001b[0;32m/Users/wallacdc/anaconda/lib/python2.7/site-packages/bokeh/core/properties.pyc\u001b[0m in \u001b[0;36mprepare_value\u001b[0;34m(self, cls, name, value)\u001b[0m\n\u001b[1;32m    270\u001b[0m                     \u001b[0;32mbreak\u001b[0m\u001b[0;34m\u001b[0m\u001b[0m\n\u001b[1;32m    271\u001b[0m             \u001b[0;32melse\u001b[0m\u001b[0;34m:\u001b[0m\u001b[0;34m\u001b[0m\u001b[0m\n\u001b[0;32m--> 272\u001b[0;31m                 \u001b[0;32mraise\u001b[0m \u001b[0me\u001b[0m\u001b[0;34m\u001b[0m\u001b[0m\n\u001b[0m\u001b[1;32m    273\u001b[0m         \u001b[0;32melse\u001b[0m\u001b[0;34m:\u001b[0m\u001b[0;34m\u001b[0m\u001b[0m\n\u001b[1;32m    274\u001b[0m             \u001b[0mvalue\u001b[0m \u001b[0;34m=\u001b[0m \u001b[0mself\u001b[0m\u001b[0;34m.\u001b[0m\u001b[0mtransform\u001b[0m\u001b[0;34m(\u001b[0m\u001b[0mvalue\u001b[0m\u001b[0;34m)\u001b[0m\u001b[0;34m\u001b[0m\u001b[0m\n",
      "\u001b[0;31mValueError\u001b[0m: expected an element of List(String), got seq with invalid items [1]"
     ]
    }
   ],
   "source": [
    "for i in range(1,2):\n",
    "    fig = Bar(clusters_df.iloc[i])#, fill_color=Spectral7[cluster_number-1])\n",
    "    show(fig)"
   ]
  },
  {
   "cell_type": "code",
   "execution_count": 65,
   "metadata": {
    "collapsed": false
   },
   "outputs": [],
   "source": [
    "import matplotlib.pyplot as plt\n",
    "import seaborn as sns"
   ]
  },
  {
   "cell_type": "code",
   "execution_count": 81,
   "metadata": {
    "collapsed": false
   },
   "outputs": [],
   "source": [
    "clusters_df[['crime','vacancy','restaurant','grocery','parks','liquor']].iloc[1:].plot(kind='bar')\n",
    "plt.xlabel('Cluster Number')\n",
    "plt.ylabel('Fraction of Cluster Total')\n",
    "plt.show()"
   ]
  },
  {
   "cell_type": "code",
   "execution_count": null,
   "metadata": {
    "collapsed": true
   },
   "outputs": [],
   "source": []
  }
 ],
 "metadata": {
  "kernelspec": {
   "display_name": "Python 2",
   "language": "python",
   "name": "python2"
  },
  "language_info": {
   "codemirror_mode": {
    "name": "ipython",
    "version": 2
   },
   "file_extension": ".py",
   "mimetype": "text/x-python",
   "name": "python",
   "nbconvert_exporter": "python",
   "pygments_lexer": "ipython2",
   "version": "2.7.11"
  }
 },
 "nbformat": 4,
 "nbformat_minor": 0
}
