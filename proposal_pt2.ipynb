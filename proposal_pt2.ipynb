{
 "cells": [
  {
   "cell_type": "code",
   "execution_count": 1,
   "metadata": {
    "collapsed": false
   },
   "outputs": [],
   "source": [
    "from scripts import mapcalc, get_user_POIs"
   ]
  },
  {
   "cell_type": "code",
   "execution_count": 2,
   "metadata": {
    "collapsed": true
   },
   "outputs": [],
   "source": [
    "import pandas as pd\n",
    "import numpy as np\n",
    "import matplotlib.pyplot as plt\n",
    "import geocoder"
   ]
  },
  {
   "cell_type": "code",
   "execution_count": 3,
   "metadata": {
    "collapsed": false
   },
   "outputs": [],
   "source": [
    "%matplotlib inline"
   ]
  },
  {
   "cell_type": "code",
   "execution_count": 4,
   "metadata": {
    "collapsed": false
   },
   "outputs": [],
   "source": [
    "arrests = pd.read_csv('clean_data/arrests_GIS.csv')\n",
    "schools = pd.read_csv('clean_data/school_list_GIS.csv')\n",
    "restaurants = pd.read_csv('clean_data/restaurant_list_GIS.csv')\n",
    "groceries = pd.read_csv('clean_data/grocerystore_list_GIS.csv')\n",
    "vacancies = pd.read_csv('clean_data/vacancies_GIS.csv')\n",
    "\n",
    "#Add my own point of interest (JHU Homewood campus, where I work...)\n",
    "JHU = get_user_POIs.add_user_POI('3400 N Charles St, Baltimore, MD')\n",
    "Fells = get_user_POIs.add_user_POI('Fells Point, Baltimore, MD')"
   ]
  },
  {
   "cell_type": "code",
   "execution_count": 5,
   "metadata": {
    "collapsed": false
   },
   "outputs": [],
   "source": [
    "# compute histograms of arrests and vacant buildings by location\n",
    "arrest_heat = mapcalc.hist2d_bmoredata(arrests, 0, 0)\n",
    "vacancy_heat = mapcalc.hist2d_bmoredata(vacancies, 0, 0)\n",
    "\n",
    "# compute 2D grids of distances to nearest point of interest\n",
    "restaurant_heat = mapcalc.compute_distances_to_POIs(restaurants)\n",
    "grocery_heat = mapcalc.compute_distances_to_POIs(groceries[groceries['type'] == 'Full Supermarket'])\n",
    "\n",
    "# compute 2D grid of distance to Johns Hopkins Homewood campus\n",
    "# JHU_heat = mapcalc.compute_distances_to_POIs(JHU)"
   ]
  },
  {
   "cell_type": "raw",
   "metadata": {
    "collapsed": false
   },
   "source": [
    "# plot each of the 2D heatmaps from above\n",
    "#mapcalc.plot_distances_to_POIs(JHU_heat)\n",
    "#plt.title('Proximity to JHU Homewood')\n",
    "mapcalc.plot_distances_to_POIs(grocery_heat)\n",
    "plt.title('Proximity to Full Supermarkets')\n",
    "mapcalc.plot_distances_to_POIs(arrest_heat)\n",
    "plt.title('Number of Arrests')\n",
    "mapcalc.plot_distances_to_POIs(vacancy_heat)\n",
    "plt.title('Number of Vacant Buildings')"
   ]
  },
  {
   "cell_type": "raw",
   "metadata": {
    "collapsed": false
   },
   "source": [
    "def normalize_map(H):\n",
    "    return H / float(np.argmax(H)) + 1\n",
    "\n",
    "\n",
    "#find the best locations by computign the product of the heatmaps above (pairwise)\n",
    "optimal_locations = ((5.0*normalize_map(grocery_heat)+\n",
    "                      (normalize_map(vacancy_heat))+\n",
    "                      (normalize_map(arrest_heat))))\n",
    "# plot the best locations (hotter is better)\n",
    "mapcalc.plot_distances_to_POIs(optimal_locations);\n",
    "plt.title('mymap')"
   ]
  },
  {
   "cell_type": "code",
   "execution_count": null,
   "metadata": {
    "collapsed": false
   },
   "outputs": [],
   "source": []
  },
  {
   "cell_type": "code",
   "execution_count": 5,
   "metadata": {
    "collapsed": false
   },
   "outputs": [],
   "source": [
    "#lowest_val = np.amin(1.0/optimal_locations)\n",
    "#opt_lat, opt_lon = np.argwhere(1.0/optimal_locations == lowest_val)[0]\n",
    "#print 'The latitude and longitude coordinates of the best location are:\\n%f, %f' % (mapcalc.y[opt_lat], mapcalc.x[opt_lon])"
   ]
  },
  {
   "cell_type": "code",
   "execution_count": 6,
   "metadata": {
    "collapsed": true
   },
   "outputs": [],
   "source": [
    "# Wow! That's really close to my house!"
   ]
  },
  {
   "cell_type": "raw",
   "metadata": {
    "collapsed": false
   },
   "source": [
    "optimal_locations"
   ]
  },
  {
   "cell_type": "raw",
   "metadata": {
    "collapsed": false
   },
   "source": [
    "arrest_heat.shape"
   ]
  },
  {
   "cell_type": "raw",
   "metadata": {
    "collapsed": false
   },
   "source": [
    "edge_size = len(arrest_heat[:,0])\n",
    "arrest_heat_smooth = np.zeros((edge_size,edge_size))\n",
    "for i in range(1,edge_size-1):\n",
    "    for j in range(1,edge_size-1):\n",
    "        arrest_heat_smooth[i,j] = np.mean(\n",
    "            (arrest_heat[i,j],\n",
    "            arrest_heat[i-1,j],\n",
    "            arrest_heat[i-1,j-1],\n",
    "            arrest_heat[i+1,j],\n",
    "            arrest_heat[i-1,j+1],\n",
    "            arrest_heat[i,j+1],\n",
    "            arrest_heat[i+1,j+1])\n",
    "        )"
   ]
  },
  {
   "cell_type": "raw",
   "metadata": {
    "collapsed": false
   },
   "source": [
    "mapcalc.plot_distances_to_POIs(1.0/(arrest_heat_smooth+1))\n",
    "plt.title('Number of Arrests')"
   ]
  },
  {
   "cell_type": "code",
   "execution_count": 6,
   "metadata": {
    "collapsed": false
   },
   "outputs": [],
   "source": [
    "from scipy.stats import gaussian_kde"
   ]
  },
  {
   "cell_type": "code",
   "execution_count": null,
   "metadata": {
    "collapsed": false
   },
   "outputs": [],
   "source": []
  },
  {
   "cell_type": "code",
   "execution_count": 9,
   "metadata": {
    "collapsed": false
   },
   "outputs": [],
   "source": []
  },
  {
   "cell_type": "code",
   "execution_count": 10,
   "metadata": {
    "collapsed": false
   },
   "outputs": [],
   "source": []
  },
  {
   "cell_type": "code",
   "execution_count": null,
   "metadata": {
    "collapsed": false
   },
   "outputs": [],
   "source": []
  },
  {
   "cell_type": "code",
   "execution_count": 190,
   "metadata": {
    "collapsed": false
   },
   "outputs": [],
   "source": [
    "# Boundary conditions for all maps (longitudes as x vals, latitudes as y vals)\n",
    "lonmin = -76.72\n",
    "lonmax = -76.52\n",
    "latmin = 39.19\n",
    "latmax = 39.38\n",
    "\n",
    "# number of points along each map edge\n",
    "# (total number of points is npts**2)\n",
    "npts = 30\n",
    "\n",
    "x = np.linspace(lonmin, lonmax, npts)\n",
    "y = np.linspace(latmin, latmax, npts)\n",
    "\n",
    "X, Y = np.meshgrid(x, y)\n",
    "positions = np.vstack([X.ravel(), Y.ravel()])\n",
    "\n",
    "def kde_map(lon_vec, lat_vec, POIlons, POIlats):\n",
    "    \"\"\"\n",
    "    Gaussian KDE for vectors of points.\n",
    "    \"\"\"\n",
    "    X, Y = np.meshgrid(lon_vec, lat_vec)\n",
    "    gridpoints = np.vstack([X.ravel(), Y.ravel()])\n",
    "    \n",
    "    kernel = gaussian_kde((POIlons, POIlats))\n",
    "\n",
    "    Z = np.reshape(kernel(gridpoints), X.shape)\n",
    "\n",
    "    # correct orientation of kernel density estimate\n",
    "    Z = np.rot90(Z.T)\n",
    "\n",
    "    return Z / max(Z.flatten())\n",
    "\n",
    "def gauss_2D(lon_vec, lat_vec, POI_lon, POI_lat, bandwidth):\n",
    "    \"\"\"\n",
    "    Gaussian function for a single point.\n",
    "    \"\"\"\n",
    "    X, Y = np.meshgrid(lon_vec, lat_vec)\n",
    "    \n",
    "    # Bandwidth needs to be related to map size!\n",
    "    # Or maybe the bandwidth of the other maps...\n",
    "    \n",
    "    gaussian = np.exp(-((X.ravel()-POI_lon)**2 + \n",
    "                        (Y.ravel()-POI_lat)**2)/(2*bandwidth**2))\n",
    "    \n",
    "    print max(gaussian)\n",
    "    Z = np.reshape(gaussian, X.shape)\n",
    "    Z = np.rot90(Z.T)\n",
    "    \n",
    "    return Z\n",
    "\n",
    "def plot_KDE(lons, lats, kernel_density):\n",
    "    plt.figure(figsize=(6, 5))\n",
    "    plt.imshow(\n",
    "        kernel_density,\n",
    "        cmap=plt.cm.gist_earth_r,\n",
    "        extent=[min(lons), max(lons), min(lats), max(lats)]\n",
    "              )\n",
    "    plt.axis([min(lons), max(lons), min(lats), max(lats)])\n",
    "    plt.xlabel('Longitude')\n",
    "    plt.ylabel('Latitude')\n",
    "    cbar = plt.colorbar()\n",
    "    cbar.ax.set_ylabel('Kernel Density (arb.)')"
   ]
  },
  {
   "cell_type": "code",
   "execution_count": 191,
   "metadata": {
    "collapsed": false
   },
   "outputs": [
    {
     "name": "stdout",
     "output_type": "stream",
     "text": [
      "0.999997701846\n"
     ]
    }
   ],
   "source": [
    "Z_arrests = kde_map(x, y, arrests['Longitude'], arrests['Latitude'])\n",
    "Z_schools = kde_map(x, y, schools['Longitude'], schools['Latitude'])\n",
    "Z_groceries = kde_map(x, y, groceries['Longitude'], groceries['Latitude'])\n",
    "Z_locs = gauss_2D(x, y, JHU[0][1], JHU[0][0], 1)"
   ]
  },
  {
   "cell_type": "code",
   "execution_count": 209,
   "metadata": {
    "collapsed": false
   },
   "outputs": [],
   "source": [
    "my_map = Z_locs + Z_schools + Z_groceries - Z_arrests\n",
    "for i in [Z_arrests,Z_schools,Z_groceries,Z_locs,my_map]:\n",
    "    plot_KDE(x, y, i)"
   ]
  },
  {
   "cell_type": "code",
   "execution_count": 207,
   "metadata": {
    "collapsed": false
   },
   "outputs": [
    {
     "name": "stdout",
     "output_type": "stream",
     "text": [
      "Using matplotlib backend: MacOSX\n"
     ]
    }
   ],
   "source": [
    "%matplotlib"
   ]
  },
  {
   "cell_type": "code",
   "execution_count": null,
   "metadata": {
    "collapsed": false
   },
   "outputs": [],
   "source": []
  },
  {
   "cell_type": "code",
   "execution_count": 110,
   "metadata": {
    "collapsed": false
   },
   "outputs": [
    {
     "data": {
      "text/plain": [
       "0.0"
      ]
     },
     "execution_count": 110,
     "metadata": {},
     "output_type": "execute_result"
    }
   ],
   "source": [
    "my_map[0][0]"
   ]
  },
  {
   "cell_type": "code",
   "execution_count": null,
   "metadata": {
    "collapsed": false
   },
   "outputs": [],
   "source": []
  },
  {
   "cell_type": "code",
   "execution_count": null,
   "metadata": {
    "collapsed": false
   },
   "outputs": [],
   "source": []
  },
  {
   "cell_type": "code",
   "execution_count": 111,
   "metadata": {
    "collapsed": false
   },
   "outputs": [],
   "source": []
  },
  {
   "cell_type": "code",
   "execution_count": null,
   "metadata": {
    "collapsed": false
   },
   "outputs": [],
   "source": []
  },
  {
   "cell_type": "code",
   "execution_count": null,
   "metadata": {
    "collapsed": false
   },
   "outputs": [],
   "source": []
  },
  {
   "cell_type": "code",
   "execution_count": null,
   "metadata": {
    "collapsed": false
   },
   "outputs": [],
   "source": []
  },
  {
   "cell_type": "code",
   "execution_count": null,
   "metadata": {
    "collapsed": false
   },
   "outputs": [],
   "source": []
  },
  {
   "cell_type": "code",
   "execution_count": null,
   "metadata": {
    "collapsed": false
   },
   "outputs": [],
   "source": []
  },
  {
   "cell_type": "code",
   "execution_count": null,
   "metadata": {
    "collapsed": true
   },
   "outputs": [],
   "source": []
  }
 ],
 "metadata": {
  "kernelspec": {
   "display_name": "Python 2",
   "language": "python",
   "name": "python2"
  },
  "language_info": {
   "codemirror_mode": {
    "name": "ipython",
    "version": 2
   },
   "file_extension": ".py",
   "mimetype": "text/x-python",
   "name": "python",
   "nbconvert_exporter": "python",
   "pygments_lexer": "ipython2",
   "version": "2.7.10"
  }
 },
 "nbformat": 4,
 "nbformat_minor": 0
}
